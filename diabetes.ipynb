{
 "cells": [
  {
   "cell_type": "markdown",
   "metadata": {},
   "source": [
    "4. Perform the data exploration step (i.e. evaluate your data, # of observations, details about your data distributions, scales, missing data, column descriptions) Note: For image data you can still describe your data by the number of classes, # of images, size of images, are sizes standardized? do they need to be cropped? normalized? etc.\n",
    "\n",
    "5. Plot your data. For tabular data, you will need to run scatters, for image data, you will need to plot your example classes.\n",
    "\n",
    "6. How will you preprocess your data? You should explain this in your Readme.MD file and link your jupyter notebook to it. Your jupyter notebook should be uploaded to your repo.\n",
    "\n",
    "7. Jupyter Notebook data download and environment setup requirements: \n",
    "\n",
    "    !wget !unzip like functions as well as !pip install functions for non standard libraries not available in colab are required to be in the top section of your jupyter lab notebook. Please see HW2 & HW3 for examples.\n",
    "\n",
    "Note: You will still be able to of course edit your GitHub repo for the data exploration part for your final submission, but I will grade this part of your submission as if it were finalized! You are expected to finalize the data exploration by Sunday.\n",
    "\n",
    "Any git commits past the deadline will not be considered!"
   ]
  },
  {
   "cell_type": "code",
   "execution_count": null,
   "metadata": {},
   "outputs": [],
   "source": [
    "import platform\n",
    "mysystem = platform.system()\n",
    "# We need to first download the data here:\n",
    "file_download_link = \"https://drive.google.com/uc?export=download&id=1NvWcxh31JQKcGzrHK8tfatme3dJFxrLJ\"\n",
    "# Check for windows\n",
    "if mysystem != 'Windows':\n",
    "    !wget -O diabetes.csv --no-check-certificate \"$file_download_link\"\n",
    "\n",
    "\n",
    "print('Please download the data using the following link:', file_download_link)\n"
   ]
  },
  {
   "cell_type": "code",
   "execution_count": null,
   "metadata": {},
   "outputs": [],
   "source": [
    "import seaborn as sns\n",
    "import numpy as np\n",
    "import pandas as pd\n",
    "import matplotlib.pyplot as plt\n",
    "from scipy.stats import shapiro \n",
    "\n",
    "#initialize data set\n",
    "diabetes_df = pd.read_csv('diabetes.csv')\n",
    "diabetes_df.info()\n",
    "diabetes_df.describe()\n",
    "diabetes_df.head()\n",
    "\n",
    "\n",
    "# print(sum(diabetes_df[\"Age\"])/len(diabetes_df[\"Age\"]))\n",
    "\n",
    "\n"
   ]
  },
  {
   "cell_type": "code",
   "execution_count": null,
   "metadata": {},
   "outputs": [],
   "source": [
    "def displayDiabetes():\n",
    "    for colName in diabetes_df:\n",
    "        sns.displot(data=diabetes_df, x=colName, kde=True, linewidth=1)\n",
    "        plt.title('Analysing '+colName+' for Diabetes')\n",
    "        plt.show()\n",
    "        print(\"Shapiro-Wilk test:\", shapiro(diabetes_df[colName]))\n",
    "        \n",
    "displayDiabetes()\n",
    "\n",
    "\n",
    "\n",
    "\n"
   ]
  },
  {
   "cell_type": "code",
   "execution_count": null,
   "metadata": {},
   "outputs": [],
   "source": [
    "heatmap = diabetes_df.copy().drop(columns=['Outcome']).corr()\n",
    "_ = sns.heatmap(heatmap, vmin=-1, vmax=1, center=0, annot=True, cmap= 'RdBu')"
   ]
  },
  {
   "cell_type": "code",
   "execution_count": null,
   "metadata": {},
   "outputs": [],
   "source": [
    "sns.pairplot(diabetes_df, hue=\"Outcome\", diag_kind=\"hist\", x_vars=[\"Pregnancies\", \"Glucose\", \"Insulin\", \"DiabetesPedigreeFunction\"], y_vars=[\"Age\"])\n",
    "sns.pairplot(diabetes_df, hue=\"Outcome\", diag_kind=\"hist\", x_vars=[\"SkinThickness\", \"BloodPressure\", \"BMI\", \"DiabetesPedigreeFunction\"], y_vars=[\"Age\"])"
   ]
  },
  {
   "cell_type": "code",
   "execution_count": null,
   "metadata": {},
   "outputs": [],
   "source": [
    "from sklearn.preprocessing import MinMaxScaler\n",
    "\n",
    "print(diabetes_df.columns)\n",
    "scaler = MinMaxScaler()\n",
    "data = diabetes_df.copy().drop(columns=['Outcome', 'Age']).corr()\n",
    "diabetesData = pd.DataFrame(data, columns = data.columns)\n",
    "display(diabetesData.round(3))\n",
    "diabetesTarget = pd.DataFrame(diabetes_df, columns = ['Age', 'Outcome'])\n",
    "display(diabetesTarget)"
   ]
  },
  {
   "cell_type": "markdown",
   "metadata": {},
   "source": [
    "[link to readme](./README.md)."
   ]
  }
 ],
 "metadata": {
  "kernelspec": {
   "display_name": "Python 3.10.6 64-bit",
   "language": "python",
   "name": "python3"
  },
  "language_info": {
   "codemirror_mode": {
    "name": "ipython",
    "version": 3
   },
   "file_extension": ".py",
   "mimetype": "text/x-python",
   "name": "python",
   "nbconvert_exporter": "python",
   "pygments_lexer": "ipython3",
   "version": "3.10.6"
  },
  "orig_nbformat": 4,
  "vscode": {
   "interpreter": {
    "hash": "916dbcbb3f70747c44a77c7bcd40155683ae19c65e1c03b4aa3499c5328201f1"
   }
  }
 },
 "nbformat": 4,
 "nbformat_minor": 2
}
